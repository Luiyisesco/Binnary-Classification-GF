{
 "cells": [
  {
   "cell_type": "markdown",
   "metadata": {},
   "source": [
    "#Header"
   ]
  },
  {
   "cell_type": "code",
   "execution_count": 1,
   "metadata": {},
   "outputs": [
    {
     "name": "stderr",
     "output_type": "stream",
     "text": [
      "Using TensorFlow backend.\n"
     ]
    }
   ],
   "source": [
    "#import stuff\n",
    "from keras.preprocessing.image import ImageDataGenerator\n",
    "from keras.models import Sequential\n",
    "from keras.layers import Conv2D, MaxPooling2D\n",
    "from keras.layers import Activation, Dropout, Flatten, Dense\n",
    "from keras import backend as K"
   ]
  },
  {
   "cell_type": "code",
   "execution_count": 10,
   "metadata": {},
   "outputs": [],
   "source": [
    "# dimensions of our images, file locations, train samples, batch (samples need to be dibisible by the batch size)\n",
    "img_width, img_height = 1440, 900\n",
    "\n",
    "train_data_dir = r'C:\\Users\\VAS2AGU\\Desktop\\GF FaReC v0\\data\\train' \n",
    "validation_data_dir = r'C:\\Users\\VAS2AGU\\Desktop\\GF FaReC v0\\data\\validate'\n",
    "nb_train_samples = 64\n",
    "nb_validation_samples = 64\n",
    "epochs = 50\n",
    "batch_size = 16\n",
    "\n",
    "if K.image_data_format() == 'channels_first':\n",
    "    input_shape = (3, img_width, img_height)\n",
    "else:\n",
    "    input_shape = (img_width, img_height, 3)"
   ]
  },
  {
   "cell_type": "code",
   "execution_count": 3,
   "metadata": {},
   "outputs": [],
   "source": [
    "# Model\n",
    "model = Sequential()\n",
    "model.add(Conv2D(32, (3, 3), input_shape=input_shape))\n",
    "model.add(Activation('relu'))\n",
    "model.add(MaxPooling2D(pool_size=(2, 2)))\n",
    "\n",
    "model.add(Conv2D(32, (3, 3)))\n",
    "model.add(Activation('relu'))\n",
    "model.add(MaxPooling2D(pool_size=(2, 2)))\n",
    "\n",
    "model.add(Conv2D(64, (3, 3)))\n",
    "model.add(Activation('relu'))\n",
    "model.add(MaxPooling2D(pool_size=(2, 2)))\n",
    "\n",
    "# the model so far outputs 3D feature maps (height, width, features)\n",
    "\n",
    "model.add(Flatten()) # this converts our 3D feature maps to 1D feature vectors\n",
    "model.add(Dense(64))\n",
    "model.add(Activation('relu'))\n",
    "model.add(Dropout(0.5))\n",
    "model.add(Dense(1))\n",
    "model.add(Activation('sigmoid'))\n",
    "\n",
    "model.compile(loss='binary_crossentropy',\n",
    "              optimizer='rmsprop',\n",
    "              metrics=['accuracy'])"
   ]
  },
  {
   "cell_type": "code",
   "execution_count": 4,
   "metadata": {},
   "outputs": [],
   "source": [
    "# Augmentations\n",
    "# this is the augmentation configuration we will use for training\n",
    "# no many augmentations for this due to the nature of the data\n",
    "train_datagen = ImageDataGenerator(\n",
    "    rescale=1. / 255)\n",
    "    #shear_range=0.2,\n",
    "    #zoom_range=0.2,\n",
    "    #horizontal_flip=True)\n",
    "\n",
    "# this is the augmentation configuration we will use for testing:\n",
    "# only rescaling, same as for training\n",
    "test_datagen = ImageDataGenerator(rescale=1. / 255)"
   ]
  },
  {
   "cell_type": "code",
   "execution_count": 11,
   "metadata": {},
   "outputs": [
    {
     "name": "stdout",
     "output_type": "stream",
     "text": [
      "Found 64 images belonging to 2 classes.\n",
      "Found 64 images belonging to 2 classes.\n"
     ]
    }
   ],
   "source": [
    "# this is a generator that will read pictures found in\n",
    "# subfolers of 'data/train', and indefinitely generate\n",
    "# batches of augmented image data\n",
    "train_generator = train_datagen.flow_from_directory(\n",
    "    train_data_dir, # this is the target directory\n",
    "    target_size=(img_width, img_height), # all images will be resized to the size we required\n",
    "    batch_size=batch_size,\n",
    "    class_mode='binary') # since we use binary_crossentropy loss, we need binary labels IMPORTANT\n",
    "\n",
    "# this is a similar generator, for validation data\n",
    "validation_generator = test_datagen.flow_from_directory(\n",
    "    validation_data_dir,\n",
    "    target_size=(img_width, img_height),\n",
    "    batch_size=batch_size,\n",
    "    class_mode='binary')"
   ]
  },
  {
   "cell_type": "code",
   "execution_count": 12,
   "metadata": {},
   "outputs": [
    {
     "name": "stdout",
     "output_type": "stream",
     "text": [
      "Epoch 1/50\n",
      "4/4 [==============================] - 63s 16s/step - loss: 28.3961 - accuracy: 0.4844 - val_loss: 16.4920 - val_accuracy: 0.5000\n",
      "Epoch 2/50\n",
      "4/4 [==============================] - 60s 15s/step - loss: 4.7751 - accuracy: 0.5000 - val_loss: 0.5194 - val_accuracy: 0.5000\n",
      "Epoch 3/50\n",
      "4/4 [==============================] - 60s 15s/step - loss: 0.3601 - accuracy: 0.8750 - val_loss: 0.0574 - val_accuracy: 1.0000\n",
      "Epoch 4/50\n",
      "4/4 [==============================] - 60s 15s/step - loss: 0.1748 - accuracy: 0.9688 - val_loss: 0.0174 - val_accuracy: 1.0000\n",
      "Epoch 5/50\n",
      "4/4 [==============================] - 61s 15s/step - loss: 0.0406 - accuracy: 1.0000 - val_loss: 9.1871e-04 - val_accuracy: 1.0000\n",
      "Epoch 6/50\n",
      "4/4 [==============================] - 61s 15s/step - loss: 0.0044 - accuracy: 1.0000 - val_loss: 1.6541e-04 - val_accuracy: 1.0000\n",
      "Epoch 7/50\n",
      "4/4 [==============================] - 61s 15s/step - loss: 0.0020 - accuracy: 1.0000 - val_loss: 9.4711e-05 - val_accuracy: 1.0000\n",
      "Epoch 8/50\n",
      "4/4 [==============================] - 61s 15s/step - loss: 8.3142e-04 - accuracy: 1.0000 - val_loss: 5.4318e-05 - val_accuracy: 1.0000\n",
      "Epoch 9/50\n",
      "4/4 [==============================] - 61s 15s/step - loss: 5.5592e-04 - accuracy: 1.0000 - val_loss: 2.0336e-05 - val_accuracy: 1.0000\n",
      "Epoch 10/50\n",
      "4/4 [==============================] - 61s 15s/step - loss: 0.0073 - accuracy: 1.0000 - val_loss: 1.1192e-04 - val_accuracy: 1.0000\n",
      "Epoch 11/50\n",
      "4/4 [==============================] - 62s 15s/step - loss: 8.2298e-04 - accuracy: 1.0000 - val_loss: 3.7266e-05 - val_accuracy: 1.0000\n",
      "Epoch 12/50\n",
      "4/4 [==============================] - 61s 15s/step - loss: 6.4248e-04 - accuracy: 1.0000 - val_loss: 5.4498e-06 - val_accuracy: 1.0000\n",
      "Epoch 13/50\n",
      "4/4 [==============================] - 61s 15s/step - loss: 3.7847e-04 - accuracy: 1.0000 - val_loss: 5.0777e-06 - val_accuracy: 1.0000\n",
      "Epoch 14/50\n",
      "4/4 [==============================] - 61s 15s/step - loss: 3.9229e-05 - accuracy: 1.0000 - val_loss: 1.0303e-06 - val_accuracy: 1.0000\n",
      "Epoch 15/50\n",
      "4/4 [==============================] - 61s 15s/step - loss: 1.2708e-04 - accuracy: 1.0000 - val_loss: 2.1401e-06 - val_accuracy: 1.0000\n",
      "Epoch 16/50\n",
      "4/4 [==============================] - 61s 15s/step - loss: 3.4013e-05 - accuracy: 1.0000 - val_loss: 6.0877e-07 - val_accuracy: 1.0000\n",
      "Epoch 17/50\n",
      "4/4 [==============================] - 61s 15s/step - loss: 3.7758e-05 - accuracy: 1.0000 - val_loss: 5.1995e-07 - val_accuracy: 1.0000\n",
      "Epoch 18/50\n",
      "4/4 [==============================] - 62s 15s/step - loss: 1.9494e-05 - accuracy: 1.0000 - val_loss: 6.9776e-07 - val_accuracy: 1.0000\n",
      "Epoch 19/50\n",
      "4/4 [==============================] - 63s 16s/step - loss: 2.0032e-05 - accuracy: 1.0000 - val_loss: 7.1082e-07 - val_accuracy: 1.0000\n",
      "Epoch 20/50\n",
      "4/4 [==============================] - 62s 16s/step - loss: 7.1219e-06 - accuracy: 1.0000 - val_loss: 5.4384e-08 - val_accuracy: 1.0000\n",
      "Epoch 21/50\n",
      "4/4 [==============================] - 62s 15s/step - loss: 1.0727e-04 - accuracy: 1.0000 - val_loss: 1.1405e-07 - val_accuracy: 1.0000\n",
      "Epoch 22/50\n",
      "4/4 [==============================] - 62s 15s/step - loss: 9.5673e-06 - accuracy: 1.0000 - val_loss: 6.0084e-08 - val_accuracy: 1.0000\n",
      "Epoch 23/50\n",
      "4/4 [==============================] - 63s 16s/step - loss: 3.0162e-04 - accuracy: 1.0000 - val_loss: 1.5033e-06 - val_accuracy: 1.0000\n",
      "Epoch 24/50\n",
      "4/4 [==============================] - 64s 16s/step - loss: 2.0068e-05 - accuracy: 1.0000 - val_loss: 8.8733e-07 - val_accuracy: 1.0000\n",
      "Epoch 25/50\n",
      "4/4 [==============================] - 61s 15s/step - loss: 2.1704e-04 - accuracy: 1.0000 - val_loss: 6.0473e-09 - val_accuracy: 1.0000\n",
      "Epoch 26/50\n",
      "4/4 [==============================] - 61s 15s/step - loss: 1.0345e-06 - accuracy: 1.0000 - val_loss: 1.2353e-09 - val_accuracy: 1.0000\n",
      "Epoch 27/50\n",
      "4/4 [==============================] - 61s 15s/step - loss: 3.5066e-04 - accuracy: 1.0000 - val_loss: 7.7021e-06 - val_accuracy: 1.0000\n",
      "Epoch 28/50\n",
      "4/4 [==============================] - 61s 15s/step - loss: 6.4614e-05 - accuracy: 1.0000 - val_loss: 2.2331e-08 - val_accuracy: 1.0000\n",
      "Epoch 29/50\n",
      "4/4 [==============================] - 61s 15s/step - loss: 3.4813e-06 - accuracy: 1.0000 - val_loss: 2.0725e-08 - val_accuracy: 1.0000\n",
      "Epoch 30/50\n",
      "4/4 [==============================] - 61s 15s/step - loss: 1.0542e-06 - accuracy: 1.0000 - val_loss: 2.2786e-08 - val_accuracy: 1.0000\n",
      "Epoch 31/50\n",
      "4/4 [==============================] - 61s 15s/step - loss: 1.8880e-06 - accuracy: 1.0000 - val_loss: 6.4936e-09 - val_accuracy: 1.0000\n",
      "Epoch 32/50\n",
      "4/4 [==============================] - 63s 16s/step - loss: 4.5442e-06 - accuracy: 1.0000 - val_loss: 5.1681e-09 - val_accuracy: 1.0000\n",
      "Epoch 33/50\n",
      "4/4 [==============================] - 65s 16s/step - loss: 2.4595e-07 - accuracy: 1.0000 - val_loss: 3.1431e-08 - val_accuracy: 1.0000\n",
      "Epoch 34/50\n",
      "4/4 [==============================] - 62s 15s/step - loss: 1.9311e-05 - accuracy: 1.0000 - val_loss: 1.6910e-11 - val_accuracy: 1.0000\n",
      "Epoch 35/50\n",
      "4/4 [==============================] - 66s 16s/step - loss: 1.9436e-07 - accuracy: 1.0000 - val_loss: 2.7071e-11 - val_accuracy: 1.0000\n",
      "Epoch 36/50\n",
      "4/4 [==============================] - 61s 15s/step - loss: 1.7593e-06 - accuracy: 1.0000 - val_loss: 6.1218e-12 - val_accuracy: 1.0000\n",
      "Epoch 37/50\n",
      "4/4 [==============================] - 62s 15s/step - loss: 2.6831e-05 - accuracy: 1.0000 - val_loss: 6.3181e-12 - val_accuracy: 1.0000\n",
      "Epoch 38/50\n",
      "4/4 [==============================] - 61s 15s/step - loss: 7.0627e-08 - accuracy: 1.0000 - val_loss: 4.3501e-12 - val_accuracy: 1.0000\n",
      "Epoch 39/50\n",
      "4/4 [==============================] - 61s 15s/step - loss: 6.0949e-09 - accuracy: 1.0000 - val_loss: 9.0026e-15 - val_accuracy: 1.0000\n",
      "Epoch 40/50\n",
      "4/4 [==============================] - 62s 15s/step - loss: 7.3973e-08 - accuracy: 1.0000 - val_loss: 6.9325e-12 - val_accuracy: 1.0000\n",
      "Epoch 41/50\n",
      "4/4 [==============================] - 62s 15s/step - loss: 1.9810e-09 - accuracy: 1.0000 - val_loss: 4.4044e-14 - val_accuracy: 1.0000\n",
      "Epoch 42/50\n",
      "4/4 [==============================] - 60s 15s/step - loss: 1.5710e-09 - accuracy: 1.0000 - val_loss: 6.8723e-12 - val_accuracy: 1.0000\n",
      "Epoch 43/50\n",
      "4/4 [==============================] - 61s 15s/step - loss: 8.9363e-07 - accuracy: 1.0000 - val_loss: 3.4540e-13 - val_accuracy: 1.0000\n",
      "Epoch 44/50\n",
      "4/4 [==============================] - 62s 15s/step - loss: 4.3410e-08 - accuracy: 1.0000 - val_loss: 7.2798e-15 - val_accuracy: 1.0000\n",
      "Epoch 45/50\n",
      "4/4 [==============================] - 62s 15s/step - loss: 4.7363e-08 - accuracy: 1.0000 - val_loss: 3.5588e-13 - val_accuracy: 1.0000\n",
      "Epoch 46/50\n",
      "4/4 [==============================] - 61s 15s/step - loss: 3.3441e-07 - accuracy: 1.0000 - val_loss: 1.5584e-13 - val_accuracy: 1.0000\n",
      "Epoch 47/50\n",
      "4/4 [==============================] - 69s 17s/step - loss: 1.8747e-08 - accuracy: 1.0000 - val_loss: 1.9672e-13 - val_accuracy: 1.0000\n",
      "Epoch 48/50\n",
      "4/4 [==============================] - 61s 15s/step - loss: 8.6153e-11 - accuracy: 1.0000 - val_loss: 5.3176e-14 - val_accuracy: 1.0000\n",
      "Epoch 49/50\n",
      "4/4 [==============================] - 61s 15s/step - loss: 3.0253e-06 - accuracy: 1.0000 - val_loss: 1.2396e-18 - val_accuracy: 1.0000\n",
      "Epoch 50/50\n",
      "4/4 [==============================] - 62s 15s/step - loss: 7.6076e-10 - accuracy: 1.0000 - val_loss: 1.4696e-18 - val_accuracy: 1.0000\n"
     ]
    }
   ],
   "source": [
    "# now to train\n",
    "model.fit_generator(\n",
    "    train_generator,\n",
    "    steps_per_epoch=nb_train_samples // batch_size,\n",
    "    epochs=epochs,\n",
    "    validation_data=validation_generator,\n",
    "    validation_steps=nb_validation_samples // batch_size)\n",
    "\n",
    "model.save_weights('GF FaReC run1.h5') \n",
    "# always save your weights after training or during training"
   ]
  },
  {
   "cell_type": "code",
   "execution_count": null,
   "metadata": {},
   "outputs": [],
   "source": []
  }
 ],
 "metadata": {
  "kernelspec": {
   "display_name": "Python 3",
   "language": "python",
   "name": "python3"
  },
  "language_info": {
   "codemirror_mode": {
    "name": "ipython",
    "version": 3
   },
   "file_extension": ".py",
   "mimetype": "text/x-python",
   "name": "python",
   "nbconvert_exporter": "python",
   "pygments_lexer": "ipython3",
   "version": "3.7.6"
  }
 },
 "nbformat": 4,
 "nbformat_minor": 4
}
