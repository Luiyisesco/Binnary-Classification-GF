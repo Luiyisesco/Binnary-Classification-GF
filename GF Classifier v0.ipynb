{
 "cells": [
  {
   "cell_type": "code",
   "execution_count": 1,
   "metadata": {},
   "outputs": [
    {
     "name": "stderr",
     "output_type": "stream",
     "text": [
      "Using TensorFlow backend.\n"
     ]
    }
   ],
   "source": [
    "# import stuff\n",
    "\n",
    "from keras.preprocessing import image\n",
    "from keras.preprocessing.image import ImageDataGenerator\n",
    "from keras.models import Sequential\n",
    "from keras.layers import Conv2D, MaxPooling2D\n",
    "from keras.layers import Activation, Dropout, Flatten, Dense\n",
    "from keras import backend as K\n",
    "from keras.callbacks import ModelCheckpoint, EarlyStopping\n",
    "from keras.models import load_model\n",
    "from keras.utils import plot_model\n",
    "import numpy as np\n",
    "import matplotlib.pyplot as plt"
   ]
  },
  {
   "cell_type": "code",
   "execution_count": 2,
   "metadata": {},
   "outputs": [],
   "source": [
    "# dimensions of our images, file locations, train samples, batch (samples need to be dibisible by the batch size)\n",
    "\n",
    "img_width = 925\n",
    "img_height = 705\n",
    "\n",
    "train_data_dir = 'data _crop\\train' \n",
    "validation_data_dir = 'data _crop\\validate'\n",
    "nb_train_samples = 64\n",
    "nb_validation_samples = 64\n",
    "epochs = 50\n",
    "batch_size = 16\n",
    "model_file_name = 'GF FaReC run2.h5'\n",
    "\n",
    "if K.image_data_format() == 'channels_first':\n",
    "    input_shape = (3, img_height, img_width)\n",
    "else:\n",
    "    input_shape = (img_height, img_width, 3)"
   ]
  },
  {
   "cell_type": "code",
   "execution_count": 3,
   "metadata": {},
   "outputs": [],
   "source": [
    "# Model\n",
    "\n",
    "model = Sequential()\n",
    "model.add(Conv2D(32, (3, 3), input_shape=input_shape))\n",
    "model.add(Activation('relu'))\n",
    "model.add(MaxPooling2D(pool_size=(2, 2)))\n",
    "\n",
    "model.add(Conv2D(32, (3, 3)))\n",
    "model.add(Activation('relu'))\n",
    "model.add(MaxPooling2D(pool_size=(2, 2)))\n",
    "\n",
    "model.add(Conv2D(64, (3, 3)))\n",
    "model.add(Activation('relu'))\n",
    "model.add(MaxPooling2D(pool_size=(2, 2)))\n",
    "\n",
    "# the model so far outputs 3D feature maps (height, width, features)\n",
    "\n",
    "model.add(Flatten()) # this converts our 3D feature maps to 1D feature vectors\n",
    "model.add(Dense(64))\n",
    "model.add(Activation('relu'))\n",
    "model.add(Dropout(0.5))\n",
    "model.add(Dense(1))\n",
    "model.add(Activation('sigmoid'))\n",
    "\n",
    "model.compile(loss='binary_crossentropy',\n",
    "              optimizer='rmsprop',\n",
    "              metrics=['accuracy'])\n"
   ]
  },
  {
   "cell_type": "code",
   "execution_count": 4,
   "metadata": {},
   "outputs": [],
   "source": [
    "# maybe Adam to get out of local and find Global objectives? Will add later if there is time\n",
    "\n",
    "# from keras.optimizers import Adam\n",
    "# opt = Adam(lr=0.001)\n",
    "# model.compile(optimizer=opt, loss=keras.losses.categorical_crossentropy, metrics=['accuracy'])"
   ]
  },
  {
   "cell_type": "code",
   "execution_count": 5,
   "metadata": {},
   "outputs": [
    {
     "name": "stdout",
     "output_type": "stream",
     "text": [
      "Model: \"sequential_1\"\n",
      "_________________________________________________________________\n",
      "Layer (type)                 Output Shape              Param #   \n",
      "=================================================================\n",
      "conv2d_1 (Conv2D)            (None, 703, 923, 32)      896       \n",
      "_________________________________________________________________\n",
      "activation_1 (Activation)    (None, 703, 923, 32)      0         \n",
      "_________________________________________________________________\n",
      "max_pooling2d_1 (MaxPooling2 (None, 351, 461, 32)      0         \n",
      "_________________________________________________________________\n",
      "conv2d_2 (Conv2D)            (None, 349, 459, 32)      9248      \n",
      "_________________________________________________________________\n",
      "activation_2 (Activation)    (None, 349, 459, 32)      0         \n",
      "_________________________________________________________________\n",
      "max_pooling2d_2 (MaxPooling2 (None, 174, 229, 32)      0         \n",
      "_________________________________________________________________\n",
      "conv2d_3 (Conv2D)            (None, 172, 227, 64)      18496     \n",
      "_________________________________________________________________\n",
      "activation_3 (Activation)    (None, 172, 227, 64)      0         \n",
      "_________________________________________________________________\n",
      "max_pooling2d_3 (MaxPooling2 (None, 86, 113, 64)       0         \n",
      "_________________________________________________________________\n",
      "flatten_1 (Flatten)          (None, 621952)            0         \n",
      "_________________________________________________________________\n",
      "dense_1 (Dense)              (None, 64)                39804992  \n",
      "_________________________________________________________________\n",
      "activation_4 (Activation)    (None, 64)                0         \n",
      "_________________________________________________________________\n",
      "dropout_1 (Dropout)          (None, 64)                0         \n",
      "_________________________________________________________________\n",
      "dense_2 (Dense)              (None, 1)                 65        \n",
      "_________________________________________________________________\n",
      "activation_5 (Activation)    (None, 1)                 0         \n",
      "=================================================================\n",
      "Total params: 39,833,697\n",
      "Trainable params: 39,833,697\n",
      "Non-trainable params: 0\n",
      "_________________________________________________________________\n"
     ]
    }
   ],
   "source": [
    "# Print our summary to check \n",
    "\n",
    "model.summary()\n",
    "\n",
    "# Plot the moddel to export to ppts\n",
    "# Does not work, dont know why yet\n",
    "\n",
    "# plot_model(model, to_file = 'GF FaReC Model.jpg', \n",
    "#           show_shapes=True, show_layer_names=True)"
   ]
  },
  {
   "cell_type": "code",
   "execution_count": 6,
   "metadata": {},
   "outputs": [],
   "source": [
    "# Augmentations\n",
    "# this is the augmentation configuration we will use for training\n",
    "# no many augmentations for this due to the nature of the data as of today\n",
    "\n",
    "train_datagen = ImageDataGenerator(\n",
    "    rescale=1. / 255)\n",
    "    #shear_range=0.2,\n",
    "    #zoom_range=0.2,\n",
    "    #horizontal_flip=True)\n",
    "\n",
    "# this is the augmentation configuration we will use for testing:\n",
    "# only rescaling, same as for training\n",
    "\n",
    "test_datagen = ImageDataGenerator(rescale=1. / 255)"
   ]
  },
  {
   "cell_type": "code",
   "execution_count": 7,
   "metadata": {},
   "outputs": [
    {
     "name": "stdout",
     "output_type": "stream",
     "text": [
      "Found 64 images belonging to 2 classes.\n",
      "Found 64 images belonging to 2 classes.\n"
     ]
    }
   ],
   "source": [
    "# this is a generator that will read pictures found in\n",
    "# subfolers of 'data/train', and indefinitely generate\n",
    "# batches of augmented image data\n",
    "\n",
    "train_generator = train_datagen.flow_from_directory(\n",
    "    train_data_dir, # this is the target directory\n",
    "    target_size=(img_height, img_width), # all images will be resized to the size we required (important to be height, width)\n",
    "    batch_size=batch_size,\n",
    "    class_mode='binary') # since we use binary_crossentropy loss, we need binary labels >>>IMPORTANT<<<\n",
    "\n",
    "# this is a similar generator, for validation data\n",
    "\n",
    "validation_generator = test_datagen.flow_from_directory(\n",
    "    validation_data_dir,\n",
    "    target_size=(img_height, img_width),\n",
    "    batch_size=batch_size,\n",
    "    class_mode='binary')"
   ]
  },
  {
   "cell_type": "code",
   "execution_count": 8,
   "metadata": {},
   "outputs": [],
   "source": [
    "# Training option 1, train for n epochs\n",
    "\n",
    "# model.fit_generator(\n",
    "#     train_generator,\n",
    "#     steps_per_epoch=nb_train_samples // batch_size,\n",
    "#     epochs=epochs,\n",
    "#     validation_data=validation_generator,\n",
    "#     validation_steps=nb_validation_samples // batch_size)\n",
    "\n",
    "# model.save_weights('GF FaReC run2.h5') \n",
    "# always save your weights after training or during training"
   ]
  },
  {
   "cell_type": "code",
   "execution_count": 9,
   "metadata": {},
   "outputs": [
    {
     "name": "stdout",
     "output_type": "stream",
     "text": [
      "Epoch 1/50\n",
      "4/4 [==============================] - 31s 8s/step - loss: 10.0988 - accuracy: 0.5469 - val_loss: 0.4952 - val_accuracy: 0.5000\n",
      "\n",
      "Epoch 00001: val_accuracy improved from -inf to 0.50000, saving model to GF FaReC run2.h5\n",
      "Epoch 2/50\n",
      "4/4 [==============================] - 30s 7s/step - loss: 0.9132 - accuracy: 0.5469 - val_loss: 0.4057 - val_accuracy: 0.9688\n",
      "\n",
      "Epoch 00002: val_accuracy improved from 0.50000 to 0.96875, saving model to GF FaReC run2.h5\n",
      "Epoch 3/50\n",
      "4/4 [==============================] - 29s 7s/step - loss: 0.7732 - accuracy: 0.6562 - val_loss: 0.2333 - val_accuracy: 1.0000\n",
      "\n",
      "Epoch 00003: val_accuracy improved from 0.96875 to 1.00000, saving model to GF FaReC run2.h5\n",
      "Epoch 4/50\n",
      "4/4 [==============================] - 29s 7s/step - loss: 0.3254 - accuracy: 0.8750 - val_loss: 0.1827 - val_accuracy: 0.9531\n",
      "\n",
      "Epoch 00004: val_accuracy did not improve from 1.00000\n",
      "Epoch 5/50\n",
      "4/4 [==============================] - 29s 7s/step - loss: 0.1527 - accuracy: 0.9531 - val_loss: 0.0149 - val_accuracy: 1.0000\n",
      "\n",
      "Epoch 00005: val_accuracy did not improve from 1.00000\n",
      "Epoch 6/50\n",
      "4/4 [==============================] - 29s 7s/step - loss: 0.0590 - accuracy: 0.9844 - val_loss: 0.0034 - val_accuracy: 1.0000\n",
      "\n",
      "Epoch 00006: val_accuracy did not improve from 1.00000\n",
      "Epoch 7/50\n",
      "4/4 [==============================] - 29s 7s/step - loss: 0.0574 - accuracy: 0.9844 - val_loss: 0.0093 - val_accuracy: 1.0000\n",
      "\n",
      "Epoch 00007: val_accuracy did not improve from 1.00000\n",
      "Epoch 8/50\n",
      "4/4 [==============================] - 29s 7s/step - loss: 0.0309 - accuracy: 1.0000 - val_loss: 8.6035e-04 - val_accuracy: 1.0000\n",
      "\n",
      "Epoch 00008: val_accuracy did not improve from 1.00000\n",
      "Epoch 9/50\n",
      "4/4 [==============================] - 29s 7s/step - loss: 0.0070 - accuracy: 1.0000 - val_loss: 1.2229e-04 - val_accuracy: 1.0000\n",
      "\n",
      "Epoch 00009: val_accuracy did not improve from 1.00000\n",
      "Epoch 10/50\n",
      "4/4 [==============================] - 29s 7s/step - loss: 0.0289 - accuracy: 1.0000 - val_loss: 2.2213e-05 - val_accuracy: 1.0000\n",
      "\n",
      "Epoch 00010: val_accuracy did not improve from 1.00000\n",
      "Epoch 11/50\n",
      "4/4 [==============================] - 29s 7s/step - loss: 0.0012 - accuracy: 1.0000 - val_loss: 2.9025e-06 - val_accuracy: 1.0000\n",
      "\n",
      "Epoch 00011: val_accuracy did not improve from 1.00000\n",
      "Epoch 12/50\n",
      "4/4 [==============================] - 29s 7s/step - loss: 3.0387e-04 - accuracy: 1.0000 - val_loss: 2.4509e-05 - val_accuracy: 1.0000\n",
      "\n",
      "Epoch 00012: val_accuracy did not improve from 1.00000\n",
      "Epoch 13/50\n",
      "4/4 [==============================] - 29s 7s/step - loss: 0.0012 - accuracy: 1.0000 - val_loss: 5.2803e-06 - val_accuracy: 1.0000\n",
      "\n",
      "Epoch 00013: val_accuracy did not improve from 1.00000\n",
      "Epoch 14/50\n",
      "4/4 [==============================] - 29s 7s/step - loss: 5.3675e-04 - accuracy: 1.0000 - val_loss: 2.2217e-06 - val_accuracy: 1.0000\n",
      "\n",
      "Epoch 00014: val_accuracy did not improve from 1.00000\n",
      "Epoch 15/50\n",
      "4/4 [==============================] - 29s 7s/step - loss: 5.5521e-04 - accuracy: 1.0000 - val_loss: 5.7283e-06 - val_accuracy: 1.0000\n",
      "\n",
      "Epoch 00015: val_accuracy did not improve from 1.00000\n",
      "Epoch 16/50\n",
      "4/4 [==============================] - 29s 7s/step - loss: 0.0016 - accuracy: 1.0000 - val_loss: 3.2177e-07 - val_accuracy: 1.0000\n",
      "\n",
      "Epoch 00016: val_accuracy did not improve from 1.00000\n",
      "Epoch 17/50\n",
      "4/4 [==============================] - 29s 7s/step - loss: 1.8561e-04 - accuracy: 1.0000 - val_loss: 1.5772e-07 - val_accuracy: 1.0000\n",
      "\n",
      "Epoch 00017: val_accuracy did not improve from 1.00000\n",
      "Epoch 18/50\n",
      "4/4 [==============================] - 29s 7s/step - loss: 2.4141e-04 - accuracy: 1.0000 - val_loss: 5.1039e-07 - val_accuracy: 1.0000\n",
      "\n",
      "Epoch 00018: val_accuracy did not improve from 1.00000\n",
      "Epoch 19/50\n",
      "4/4 [==============================] - 29s 7s/step - loss: 1.3908e-04 - accuracy: 1.0000 - val_loss: 2.8187e-08 - val_accuracy: 1.0000\n",
      "\n",
      "Epoch 00019: val_accuracy did not improve from 1.00000\n",
      "Epoch 20/50\n",
      "4/4 [==============================] - 29s 7s/step - loss: 5.4185e-05 - accuracy: 1.0000 - val_loss: 9.4967e-08 - val_accuracy: 1.0000\n",
      "\n",
      "Epoch 00020: val_accuracy did not improve from 1.00000\n",
      "Epoch 21/50\n",
      "4/4 [==============================] - 29s 7s/step - loss: 2.8451e-04 - accuracy: 1.0000 - val_loss: 3.0280e-06 - val_accuracy: 1.0000\n",
      "\n",
      "Epoch 00021: val_accuracy did not improve from 1.00000\n",
      "Epoch 22/50\n",
      "4/4 [==============================] - 30s 8s/step - loss: 0.0863 - accuracy: 0.9531 - val_loss: 1.2318e-04 - val_accuracy: 1.0000\n",
      "\n",
      "Epoch 00022: val_accuracy did not improve from 1.00000\n",
      "Epoch 23/50\n",
      "4/4 [==============================] - 29s 7s/step - loss: 0.0029 - accuracy: 1.0000 - val_loss: 1.5854e-05 - val_accuracy: 1.0000\n",
      "\n",
      "Epoch 00023: val_accuracy did not improve from 1.00000\n",
      "Epoch 00023: early stopping\n"
     ]
    }
   ],
   "source": [
    "# Training Option 2, train for improvement in accuracy\n",
    "\n",
    "# save only the best model obtained according to val_acc\n",
    "checkpoint = ModelCheckpoint(\n",
    "    model_file_name, monitor='val_accuracy', verbose=1, \n",
    "    save_best_only=True, save_weights_only=False, \n",
    "    mode='auto', period=1)\n",
    "\n",
    "early = EarlyStopping(\n",
    "    monitor='val_accuracy', min_delta=0, \n",
    "    patience=20, verbose=1, mode='auto')\n",
    "\n",
    "hist = model.fit_generator(\n",
    "    train_generator, \n",
    "    steps_per_epoch=nb_train_samples // batch_size, \n",
    "    epochs=epochs, \n",
    "    validation_data=validation_generator, \n",
    "    validation_steps=nb_validation_samples // batch_size, \n",
    "    callbacks=[checkpoint, early])\n"
   ]
  },
  {
   "cell_type": "code",
   "execution_count": 10,
   "metadata": {},
   "outputs": [
    {
     "data": {
      "image/png": "[encoded data removed]",
      "text/plain": [
       "<Figure size 432x288 with 1 Axes>"
      ]
     },
     "metadata": {
      "needs_background": "light"
     },
     "output_type": "display_data"
    }
   ],
   "source": [
    "# Graph accuracy of our model\n",
    "\n",
    "plt.plot(hist.history[\"accuracy\"])\n",
    "plt.plot(hist.history['val_accuracy'])\n",
    "plt.plot(hist.history['loss'])\n",
    "plt.plot(hist.history['val_loss'])\n",
    "plt.title(\"model accuracy\")\n",
    "plt.ylabel(\"Accuracy\")\n",
    "plt.xlabel(\"Epoch\")\n",
    "plt.legend([\"Accuracy\",\"Validation Accuracy\",\"loss\",\"Validation Loss\"])\n",
    "plt.show()\n"
   ]
  },
  {
   "cell_type": "code",
   "execution_count": 12,
   "metadata": {
    "scrolled": true
   },
   "outputs": [
    {
     "name": "stdout",
     "output_type": "stream",
     "text": [
      "[[0.]]\n",
      "False Reject\n"
     ]
    },
    {
     "data": {
      "image/png": "[encoded data removed]",
      "text/plain": [
       "<Figure size 432x288 with 1 Axes>"
      ]
     },
     "metadata": {
      "needs_background": "light"
     },
     "output_type": "display_data"
    }
   ],
   "source": [
    "# Check if a test image is categorized correctly\n",
    "\n",
    "img_path = r\"C:\\Users\\VAS2AGU\\Desktop\\GF FaReC v0\\Test 4.jpg\"\n",
    "img = image.load_img(img_path,target_size=(img_height, img_width))\n",
    "img = np.asarray(img)\n",
    "plt.imshow(img)\n",
    "img = np.expand_dims(img, axis=0)\n",
    "# images = np.vstack([img])\n",
    "\n",
    "saved_model = load_model(model_file_name)\n",
    "output = saved_model.predict(img)\n",
    "print(output)\n",
    "\n",
    "if output[0][0] == 1:\n",
    "    print(\"Pinched\")\n",
    "else:\n",
    "    print(\"False Reject\")\n"
   ]
  },
  {
   "cell_type": "code",
   "execution_count": null,
   "metadata": {},
   "outputs": [],
   "source": [
    "# Done :) "
   ]
  }
 ],
 "metadata": {
  "kernelspec": {
   "display_name": "Python 3",
   "language": "python",
   "name": "python3"
  },
  "language_info": {
   "codemirror_mode": {
    "name": "ipython",
    "version": 3
   },
   "file_extension": ".py",
   "mimetype": "text/x-python",
   "name": "python",
   "nbconvert_exporter": "python",
   "pygments_lexer": "ipython3",
   "version": "3.7.6"
  }
 },
 "nbformat": 4,
 "nbformat_minor": 4
}
