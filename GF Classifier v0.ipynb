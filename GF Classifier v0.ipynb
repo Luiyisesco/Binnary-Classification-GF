{
 "cells": [
  {
   "cell_type": "code",
   "execution_count": 1,
   "metadata": {},
   "outputs": [
    {
     "name": "stderr",
     "output_type": "stream",
     "text": [
      "Using TensorFlow backend.\n"
     ]
    }
   ],
   "source": [
    "#import stuff\n",
    "from keras.preprocessing import image\n",
    "from keras.preprocessing.image import ImageDataGenerator\n",
    "from keras.models import Sequential\n",
    "from keras.layers import Conv2D, MaxPooling2D\n",
    "from keras.layers import Activation, Dropout, Flatten, Dense\n",
    "from keras import backend as K\n",
    "from keras.callbacks import ModelCheckpoint, EarlyStopping\n",
    "from keras.models import load_model\n",
    "import numpy as np\n",
    "import matplotlib.pyplot as plt"
   ]
  },
  {
   "cell_type": "code",
   "execution_count": 2,
   "metadata": {},
   "outputs": [],
   "source": [
    "# dimensions of our images, file locations, train samples, batch (samples need to be dibisible by the batch size)\n",
    "img_width = 1440\n",
    "img_height = 900\n",
    "\n",
    "train_data_dir = r'C:\\Users\\VAS2AGU\\Desktop\\GF FaReC v0\\data\\train' \n",
    "validation_data_dir = r'C:\\Users\\VAS2AGU\\Desktop\\GF FaReC v0\\data\\validate'\n",
    "nb_train_samples = 64\n",
    "nb_validation_samples = 64\n",
    "epochs = 50\n",
    "batch_size = 16\n",
    "model_file_name = 'GF FaReC run1.h5'\n",
    "\n",
    "if K.image_data_format() == 'channels_first':\n",
    "    input_shape = (3, img_height, img_width)\n",
    "else:\n",
    "    input_shape = (img_height, img_width, 3)"
   ]
  },
  {
   "cell_type": "code",
   "execution_count": 3,
   "metadata": {},
   "outputs": [],
   "source": [
    "# Model\n",
    "model = Sequential()\n",
    "model.add(Conv2D(32, (3, 3), input_shape=input_shape))\n",
    "model.add(Activation('relu'))\n",
    "model.add(MaxPooling2D(pool_size=(2, 2)))\n",
    "\n",
    "model.add(Conv2D(32, (3, 3)))\n",
    "model.add(Activation('relu'))\n",
    "model.add(MaxPooling2D(pool_size=(2, 2)))\n",
    "\n",
    "model.add(Conv2D(64, (3, 3)))\n",
    "model.add(Activation('relu'))\n",
    "model.add(MaxPooling2D(pool_size=(2, 2)))\n",
    "\n",
    "# the model so far outputs 3D feature maps (height, width, features)\n",
    "\n",
    "model.add(Flatten()) # this converts our 3D feature maps to 1D feature vectors\n",
    "model.add(Dense(64))\n",
    "model.add(Activation('relu'))\n",
    "model.add(Dropout(0.5))\n",
    "model.add(Dense(1))\n",
    "model.add(Activation('sigmoid'))\n",
    "\n",
    "model.compile(loss='binary_crossentropy',\n",
    "              optimizer='rmsprop',\n",
    "              metrics=['accuracy'])\n"
   ]
  },
  {
   "cell_type": "code",
   "execution_count": 4,
   "metadata": {},
   "outputs": [],
   "source": [
    "# maybe Adam to get out of local and find Global objectives?\n",
    "\n",
    "# from keras.optimizers import Adam\n",
    "# opt = Adam(lr=0.001)\n",
    "# model.compile(optimizer=opt, loss=keras.losses.categorical_crossentropy, metrics=['accuracy'])"
   ]
  },
  {
   "cell_type": "code",
   "execution_count": 5,
   "metadata": {},
   "outputs": [
    {
     "name": "stdout",
     "output_type": "stream",
     "text": [
      "Model: \"sequential_1\"\n",
      "_________________________________________________________________\n",
      "Layer (type)                 Output Shape              Param #   \n",
      "=================================================================\n",
      "conv2d_1 (Conv2D)            (None, 898, 1438, 32)     896       \n",
      "_________________________________________________________________\n",
      "activation_1 (Activation)    (None, 898, 1438, 32)     0         \n",
      "_________________________________________________________________\n",
      "max_pooling2d_1 (MaxPooling2 (None, 449, 719, 32)      0         \n",
      "_________________________________________________________________\n",
      "conv2d_2 (Conv2D)            (None, 447, 717, 32)      9248      \n",
      "_________________________________________________________________\n",
      "activation_2 (Activation)    (None, 447, 717, 32)      0         \n",
      "_________________________________________________________________\n",
      "max_pooling2d_2 (MaxPooling2 (None, 223, 358, 32)      0         \n",
      "_________________________________________________________________\n",
      "conv2d_3 (Conv2D)            (None, 221, 356, 64)      18496     \n",
      "_________________________________________________________________\n",
      "activation_3 (Activation)    (None, 221, 356, 64)      0         \n",
      "_________________________________________________________________\n",
      "max_pooling2d_3 (MaxPooling2 (None, 110, 178, 64)      0         \n",
      "_________________________________________________________________\n",
      "flatten_1 (Flatten)          (None, 1253120)           0         \n",
      "_________________________________________________________________\n",
      "dense_1 (Dense)              (None, 64)                80199744  \n",
      "_________________________________________________________________\n",
      "activation_4 (Activation)    (None, 64)                0         \n",
      "_________________________________________________________________\n",
      "dropout_1 (Dropout)          (None, 64)                0         \n",
      "_________________________________________________________________\n",
      "dense_2 (Dense)              (None, 1)                 65        \n",
      "_________________________________________________________________\n",
      "activation_5 (Activation)    (None, 1)                 0         \n",
      "=================================================================\n",
      "Total params: 80,228,449\n",
      "Trainable params: 80,228,449\n",
      "Non-trainable params: 0\n",
      "_________________________________________________________________\n"
     ]
    }
   ],
   "source": [
    "model.summary()"
   ]
  },
  {
   "cell_type": "code",
   "execution_count": 6,
   "metadata": {},
   "outputs": [],
   "source": [
    "# Augmentations\n",
    "# this is the augmentation configuration we will use for training\n",
    "# no many augmentations for this due to the nature of the data\n",
    "train_datagen = ImageDataGenerator(\n",
    "    rescale=1. / 255)\n",
    "    #shear_range=0.2,\n",
    "    #zoom_range=0.2,\n",
    "    #horizontal_flip=True)\n",
    "\n",
    "# this is the augmentation configuration we will use for testing:\n",
    "# only rescaling, same as for training\n",
    "test_datagen = ImageDataGenerator(rescale=1. / 255)"
   ]
  },
  {
   "cell_type": "code",
   "execution_count": 10,
   "metadata": {},
   "outputs": [
    {
     "name": "stdout",
     "output_type": "stream",
     "text": [
      "Found 64 images belonging to 2 classes.\n",
      "Found 64 images belonging to 2 classes.\n"
     ]
    }
   ],
   "source": [
    "# this is a generator that will read pictures found in\n",
    "# subfolers of 'data/train', and indefinitely generate\n",
    "# batches of augmented image data\n",
    "train_generator = train_datagen.flow_from_directory(\n",
    "    train_data_dir, # this is the target directory\n",
    "    target_size=(img_height, img_width), # all images will be resized to the size we required (important to be height, width)\n",
    "    batch_size=batch_size,\n",
    "    class_mode='binary') # since we use binary_crossentropy loss, we need binary labels IMPORTANT\n",
    "\n",
    "# this is a similar generator, for validation data\n",
    "validation_generator = test_datagen.flow_from_directory(\n",
    "    validation_data_dir,\n",
    "    target_size=(img_height, img_width),\n",
    "    batch_size=batch_size,\n",
    "    class_mode='binary')"
   ]
  },
  {
   "cell_type": "code",
   "execution_count": 11,
   "metadata": {},
   "outputs": [],
   "source": [
    "# now to train\n",
    "# model.fit_generator(\n",
    "#     train_generator,\n",
    "#     steps_per_epoch=nb_train_samples // batch_size,\n",
    "#     epochs=epochs,\n",
    "#     validation_data=validation_generator,\n",
    "#     validation_steps=nb_validation_samples // batch_size)\n",
    "\n",
    "# model.save_weights('GF FaReC run2.h5') \n",
    "# always save your weights after training or during training"
   ]
  },
  {
   "cell_type": "code",
   "execution_count": 12,
   "metadata": {},
   "outputs": [
    {
     "name": "stdout",
     "output_type": "stream",
     "text": [
      "Epoch 1/50\n",
      "4/4 [==============================] - 67s 17s/step - loss: 18.4085 - accuracy: 0.4844 - val_loss: 3.9537 - val_accuracy: 0.5000\n",
      "\n",
      "Epoch 00001: val_accuracy improved from -inf to 0.50000, saving model to GF FaReC run1.h5\n",
      "Epoch 2/50\n",
      "4/4 [==============================] - 58s 15s/step - loss: 1.3598 - accuracy: 0.7188 - val_loss: 0.1994 - val_accuracy: 0.9844\n",
      "\n",
      "Epoch 00002: val_accuracy improved from 0.50000 to 0.98438, saving model to GF FaReC run1.h5\n",
      "Epoch 3/50\n",
      "4/4 [==============================] - 58s 14s/step - loss: 0.2122 - accuracy: 0.9375 - val_loss: 0.0207 - val_accuracy: 0.9688\n",
      "\n",
      "Epoch 00003: val_accuracy did not improve from 0.98438\n",
      "Epoch 4/50\n",
      "4/4 [==============================] - 58s 15s/step - loss: 0.2321 - accuracy: 0.9375 - val_loss: 0.0065 - val_accuracy: 1.0000\n",
      "\n",
      "Epoch 00004: val_accuracy improved from 0.98438 to 1.00000, saving model to GF FaReC run1.h5\n",
      "Epoch 5/50\n",
      "4/4 [==============================] - 59s 15s/step - loss: 0.0536 - accuracy: 0.9844 - val_loss: 0.0067 - val_accuracy: 1.0000\n",
      "\n",
      "Epoch 00005: val_accuracy did not improve from 1.00000\n",
      "Epoch 6/50\n",
      "4/4 [==============================] - 59s 15s/step - loss: 0.0198 - accuracy: 1.0000 - val_loss: 0.0010 - val_accuracy: 1.0000\n",
      "\n",
      "Epoch 00006: val_accuracy did not improve from 1.00000\n",
      "Epoch 7/50\n",
      "4/4 [==============================] - 59s 15s/step - loss: 0.0151 - accuracy: 1.0000 - val_loss: 1.3538e-04 - val_accuracy: 1.0000\n",
      "\n",
      "Epoch 00007: val_accuracy did not improve from 1.00000\n",
      "Epoch 8/50\n",
      "4/4 [==============================] - 60s 15s/step - loss: 5.9638e-04 - accuracy: 1.0000 - val_loss: 1.9225e-04 - val_accuracy: 1.0000\n",
      "\n",
      "Epoch 00008: val_accuracy did not improve from 1.00000\n",
      "Epoch 9/50\n",
      "4/4 [==============================] - 62s 15s/step - loss: 0.0030 - accuracy: 1.0000 - val_loss: 1.0456e-04 - val_accuracy: 1.0000\n",
      "\n",
      "Epoch 00009: val_accuracy did not improve from 1.00000\n",
      "Epoch 10/50\n",
      "4/4 [==============================] - 62s 16s/step - loss: 0.0043 - accuracy: 1.0000 - val_loss: 2.0666e-05 - val_accuracy: 1.0000\n",
      "\n",
      "Epoch 00010: val_accuracy did not improve from 1.00000\n",
      "Epoch 11/50\n",
      "4/4 [==============================] - 62s 15s/step - loss: 0.0011 - accuracy: 1.0000 - val_loss: 3.8081e-06 - val_accuracy: 1.0000\n",
      "\n",
      "Epoch 00011: val_accuracy did not improve from 1.00000\n",
      "Epoch 12/50\n",
      "4/4 [==============================] - 62s 15s/step - loss: 1.2323e-04 - accuracy: 1.0000 - val_loss: 2.8828e-06 - val_accuracy: 1.0000\n",
      "\n",
      "Epoch 00012: val_accuracy did not improve from 1.00000\n",
      "Epoch 13/50\n",
      "4/4 [==============================] - 61s 15s/step - loss: 2.8492e-04 - accuracy: 1.0000 - val_loss: 8.1656e-06 - val_accuracy: 1.0000\n",
      "\n",
      "Epoch 00013: val_accuracy did not improve from 1.00000\n",
      "Epoch 14/50\n",
      "4/4 [==============================] - 62s 15s/step - loss: 9.7832e-05 - accuracy: 1.0000 - val_loss: 9.8188e-06 - val_accuracy: 1.0000\n",
      "\n",
      "Epoch 00014: val_accuracy did not improve from 1.00000\n",
      "Epoch 15/50\n",
      "4/4 [==============================] - 63s 16s/step - loss: 2.0368e-05 - accuracy: 1.0000 - val_loss: 3.6158e-06 - val_accuracy: 1.0000\n",
      "\n",
      "Epoch 00015: val_accuracy did not improve from 1.00000\n",
      "Epoch 16/50\n",
      "4/4 [==============================] - 64s 16s/step - loss: 5.4560e-05 - accuracy: 1.0000 - val_loss: 6.7434e-07 - val_accuracy: 1.0000\n",
      "\n",
      "Epoch 00016: val_accuracy did not improve from 1.00000\n",
      "Epoch 17/50\n",
      "4/4 [==============================] - 63s 16s/step - loss: 1.4667e-05 - accuracy: 1.0000 - val_loss: 1.0389e-06 - val_accuracy: 1.0000\n",
      "\n",
      "Epoch 00017: val_accuracy did not improve from 1.00000\n",
      "Epoch 18/50\n",
      "4/4 [==============================] - 64s 16s/step - loss: 0.0019 - accuracy: 1.0000 - val_loss: 1.0503e-05 - val_accuracy: 1.0000\n",
      "\n",
      "Epoch 00018: val_accuracy did not improve from 1.00000\n",
      "Epoch 19/50\n",
      "4/4 [==============================] - 64s 16s/step - loss: 0.0011 - accuracy: 1.0000 - val_loss: 1.7767e-06 - val_accuracy: 1.0000\n",
      "\n",
      "Epoch 00019: val_accuracy did not improve from 1.00000\n",
      "Epoch 20/50\n",
      "4/4 [==============================] - 62s 16s/step - loss: 1.7705e-04 - accuracy: 1.0000 - val_loss: 2.7746e-07 - val_accuracy: 1.0000\n",
      "\n",
      "Epoch 00020: val_accuracy did not improve from 1.00000\n",
      "Epoch 21/50\n",
      "4/4 [==============================] - 62s 15s/step - loss: 7.3529e-05 - accuracy: 1.0000 - val_loss: 1.0399e-07 - val_accuracy: 1.0000\n",
      "\n",
      "Epoch 00021: val_accuracy did not improve from 1.00000\n",
      "Epoch 22/50\n",
      "4/4 [==============================] - 62s 15s/step - loss: 5.0988e-06 - accuracy: 1.0000 - val_loss: 8.0906e-08 - val_accuracy: 1.0000\n",
      "\n",
      "Epoch 00022: val_accuracy did not improve from 1.00000\n",
      "Epoch 23/50\n",
      "4/4 [==============================] - 61s 15s/step - loss: 1.2965e-05 - accuracy: 1.0000 - val_loss: 3.1853e-08 - val_accuracy: 1.0000\n",
      "\n",
      "Epoch 00023: val_accuracy did not improve from 1.00000\n",
      "Epoch 24/50\n",
      "4/4 [==============================] - 61s 15s/step - loss: 5.1119e-06 - accuracy: 1.0000 - val_loss: 1.0005e-08 - val_accuracy: 1.0000\n",
      "\n",
      "Epoch 00024: val_accuracy did not improve from 1.00000\n",
      "Epoch 00024: early stopping\n"
     ]
    }
   ],
   "source": [
    "# attemt to train based on de accuracy of the model \n",
    "\n",
    "# save only the best model obtained according to val_acc\n",
    "checkpoint = ModelCheckpoint(\n",
    "    model_file_name, monitor='val_accuracy', verbose=1, \n",
    "    save_best_only=True, save_weights_only=False, \n",
    "    mode='auto', period=1)\n",
    "\n",
    "early = EarlyStopping(\n",
    "    monitor='val_accuracy', min_delta=0, \n",
    "    patience=20, verbose=1, mode='auto')\n",
    "\n",
    "# hist = model.fit_generator(steps_per_epoch=100, \n",
    "#                            generator=traindata, \n",
    "#                            validation_data= testdata, \n",
    "#                            validation_steps=10,epochs=100,\n",
    "#                            callbacks=[checkpoint,early])\n",
    "\n",
    "hist = model.fit_generator(\n",
    "    train_generator, \n",
    "    steps_per_epoch=nb_train_samples // batch_size, \n",
    "    epochs=epochs, \n",
    "    validation_data=validation_generator, \n",
    "    validation_steps=nb_validation_samples // batch_size, \n",
    "    callbacks=[checkpoint, early])\n"
   ]
  },
  {
   "cell_type": "code",
   "execution_count": 13,
   "metadata": {},
   "outputs": [
    {
     "data": {
      "image/png": "[encoded data removed]",
      "text/plain": [
       "<Figure size 432x288 with 1 Axes>"
      ]
     },
     "metadata": {
      "needs_background": "light"
     },
     "output_type": "display_data"
    }
   ],
   "source": [
    "# Graph accuracy of our model\n",
    "\n",
    "plt.plot(hist.history[\"accuracy\"])\n",
    "plt.plot(hist.history['val_accuracy'])\n",
    "plt.plot(hist.history['loss'])\n",
    "plt.plot(hist.history['val_loss'])\n",
    "plt.title(\"model accuracy\")\n",
    "plt.ylabel(\"Accuracy\")\n",
    "plt.xlabel(\"Epoch\")\n",
    "plt.legend([\"Accuracy\",\"Validation Accuracy\",\"loss\",\"Validation Loss\"])\n",
    "plt.show()\n"
   ]
  },
  {
   "cell_type": "code",
   "execution_count": 33,
   "metadata": {},
   "outputs": [
    {
     "name": "stdout",
     "output_type": "stream",
     "text": [
      "False Reject\n"
     ]
    },
    {
     "data": {
      "image/png": "[encoded data removed]",
      "text/plain": [
       "<Figure size 432x288 with 1 Axes>"
      ]
     },
     "metadata": {
      "needs_background": "light"
     },
     "output_type": "display_data"
    }
   ],
   "source": [
    "# Check if a test image is categorized correctly\n",
    "\n",
    "img_path = r\"C:\\Users\\VAS2AGU\\Desktop\\GF FaReC v0\\Test 1.jpg\"\n",
    "img = image.load_img(img_path,target_size=(img_height, img_width))\n",
    "img = np.asarray(img)\n",
    "plt.imshow(img)\n",
    "img = np.expand_dims(img, axis=0)\n",
    "#images = np.vstack([img])\n",
    "\n",
    "saved_model = load_model(model_file_name)\n",
    "output = saved_model.predict(img)\n",
    "#print(output)\n",
    "\n",
    "if output[0][0] == 1:\n",
    "    print(\"Pinched\")\n",
    "else:\n",
    "    print(\"False Reject\")\n"
   ]
  },
  {
   "cell_type": "code",
   "execution_count": null,
   "metadata": {},
   "outputs": [],
   "source": []
  },
  {
   "cell_type": "code",
   "execution_count": null,
   "metadata": {},
   "outputs": [],
   "source": []
  }
 ],
 "metadata": {
  "kernelspec": {
   "display_name": "Python 3",
   "language": "python",
   "name": "python3"
  },
  "language_info": {
   "codemirror_mode": {
    "name": "ipython",
    "version": 3
   },
   "file_extension": ".py",
   "mimetype": "text/x-python",
   "name": "python",
   "nbconvert_exporter": "python",
   "pygments_lexer": "ipython3",
   "version": "3.7.6"
  }
 },
 "nbformat": 4,
 "nbformat_minor": 4
}
